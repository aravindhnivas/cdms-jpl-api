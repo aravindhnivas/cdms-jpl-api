{
 "cells": [
  {
   "cell_type": "code",
   "execution_count": null,
   "metadata": {},
   "outputs": [],
   "source": [
    "import requests\n",
    "import pandas as pd\n",
    "from rdkit import Chem\n",
    "from concurrent.futures import ThreadPoolExecutor, as_completed\n",
    "import time"
   ]
  },
  {
   "cell_type": "code",
   "execution_count": null,
   "metadata": {},
   "outputs": [],
   "source": [
    "import os\n",
    "import psutil\n",
    "\n",
    "def get_optimal_worker_count(io_bound=True):\n",
    "    cpu_count = os.cpu_count()\n",
    "    if cpu_count is None:\n",
    "        return 4  # Default to 4 if we can't determine CPU count\n",
    "    \n",
    "    if io_bound:\n",
    "        # For I/O bound tasks, we can use more workers\n",
    "        return min(32, cpu_count * 4)\n",
    "    else:\n",
    "        # For CPU bound tasks, use number of CPU cores\n",
    "        return cpu_count\n",
    "\n",
    "# Usage\n",
    "io_bound_workers = get_optimal_worker_count(io_bound=True)\n",
    "cpu_bound_workers = get_optimal_worker_count(io_bound=False)\n",
    "\n",
    "print(f\"Recommended workers for I/O-bound tasks: {io_bound_workers}\")\n",
    "print(f\"Recommended workers for CPU-bound tasks: {cpu_bound_workers}\")\n",
    "\n",
    "# Get more detailed system information\n",
    "print(f\"\\nCPU cores: {psutil.cpu_count(logical=False)}\")\n",
    "print(f\"Logical processors: {psutil.cpu_count(logical=True)}\")\n",
    "print(f\"Total RAM: {psutil.virtual_memory().total / (1024**3):.2f} GB\")"
   ]
  },
  {
   "cell_type": "code",
   "execution_count": null,
   "metadata": {},
   "outputs": [],
   "source": [
    "headers = [\n",
    "  \"Index\", \"Name\", \"Synonym\", \"Structure\", \"Mol. form.\", \"CAS Reg. No.\", \"Beilstein Reg. No.\", \"Mol. wt.\",\n",
    "  \"Physical form\", \"tmp/ºC\", \"tbp/ºC\", \"Other bp/ºC\", \"ρ/g cm-3\",\n",
    "  \"nD\", \"s/g kg-1\", \"vp/kPa (25 °C)\", \"Solubility\"\n",
    "]\n",
    "headers = [h.strip() for h in headers]\n",
    "headers, len(headers)"
   ]
  },
  {
   "cell_type": "code",
   "execution_count": null,
   "metadata": {},
   "outputs": [],
   "source": [
    "filename = 'physical_constants_of_organic_compounds_CRC_handbook_data_10902entries.csv'\n",
    "df = pd.read_csv(filename, names=headers, skiprows=1, index_col='Index')\n",
    "# remove structure column\n",
    "df.drop(columns=['Structure'], inplace=True)\n",
    "df"
   ]
  },
  {
   "cell_type": "code",
   "execution_count": null,
   "metadata": {},
   "outputs": [],
   "source": [
    "invalid_cas_numbers = []\n",
    "def get_smiles_from_cas(cas_number):\n",
    "    global invalid_cas_numbers\n",
    "    try:\n",
    "        url = f\"https://pubchem.ncbi.nlm.nih.gov/rest/pug/compound/name/{cas_number}/property/CanonicalSMILES/JSON\"\n",
    "        response = requests.get(url)\n",
    "        if response.status_code == 200:\n",
    "            data = response.json()\n",
    "            smiles = data['PropertyTable']['Properties'][0]['CanonicalSMILES']\n",
    "            return smiles\n",
    "        else:\n",
    "            return None\n",
    "    except requests.RequestException:\n",
    "        invalid_cas_numbers.append(cas_number)\n",
    "        return None\n",
    "    \n",
    "cas_number = \"3383-96-8\"  # Example CAS number for water\n",
    "smiles = get_smiles_from_cas(cas_number)\n",
    "if smiles:\n",
    "    print(f\"SMILES for CAS {cas_number}: {smiles}\")\n",
    "    m = Chem.MolFromSmiles(smiles)\n",
    "    display(m)\n",
    "else:\n",
    "    print(f\"Could not retrieve SMILES for CAS {cas_number}\")"
   ]
  },
  {
   "cell_type": "code",
   "execution_count": null,
   "metadata": {},
   "outputs": [],
   "source": [
    "cas_pattern = r'^\\d{2,7}-\\d{2}-\\d$'\n",
    "# Find invalid CAS numbers\n",
    "invalid_cas = df[~df['CAS Reg. No.'].str.match(cas_pattern)]\n",
    "\n",
    "# Display invalid CAS numbers\n",
    "invalid_cas, df['CAS Reg. No.']"
   ]
  },
  {
   "cell_type": "code",
   "execution_count": null,
   "metadata": {},
   "outputs": [],
   "source": [
    "def process_cas_numbers(df, column_name, max_workers=10):\n",
    "    with ThreadPoolExecutor(max_workers=max_workers) as executor:\n",
    "        # Submit all tasks\n",
    "        future_to_index = {executor.submit(get_smiles_from_cas, cas): index \n",
    "                           for index, cas in df[column_name].items()}\n",
    "        \n",
    "        # Process results as they complete\n",
    "        results = {}\n",
    "        for future in as_completed(future_to_index):\n",
    "            index = future_to_index[future]\n",
    "            try:\n",
    "                result = future.result()\n",
    "                results[index] = result\n",
    "            except Exception as exc:\n",
    "                print(f'CAS number at index {index} generated an exception: {exc}')\n",
    "                results[index] = None\n",
    "    \n",
    "    return pd.Series(results)\n"
   ]
  },
  {
   "cell_type": "code",
   "execution_count": null,
   "metadata": {},
   "outputs": [],
   "source": [
    "# Process the DataFrame\n",
    "start_time = time.time()\n",
    "df['SMILES'] = process_cas_numbers(df, 'CAS Reg. No.', max_workers=io_bound_workers)\n",
    "end_time = time.time()\n",
    "\n",
    "print(df)\n",
    "print(f\"Processing time: {end_time - start_time:.2f} seconds\")"
   ]
  },
  {
   "cell_type": "code",
   "execution_count": null,
   "metadata": {},
   "outputs": [],
   "source": [
    "# Apply the function to each CAS number in the DataFrame\n",
    "df['SMILES'] = df['CAS Reg. No.'].apply(get_smiles_from_cas)\n",
    "\n",
    "# Display the DataFrame to verify changes\n",
    "df"
   ]
  },
  {
   "cell_type": "code",
   "execution_count": null,
   "metadata": {},
   "outputs": [],
   "source": [
    "df.to_csv(f\"{filename}.smiles.csv\")\n",
    "df['SMILES']"
   ]
  },
  {
   "cell_type": "code",
   "execution_count": null,
   "metadata": {},
   "outputs": [],
   "source": [
    "# Define a function to apply get_smiles_from_cas in parallel\n",
    "def apply_parallel(df, func, column_name):\n",
    "    with ThreadPoolExecutor() as executor:\n",
    "        results = list(executor.map(func, df[column_name]))\n",
    "    return results\n",
    "\n",
    "# Apply the function to each CAS number in the DataFrame in parallel\n",
    "df['SMILES'] = apply_parallel(df, get_smiles_from_cas, 'CAS Reg. No.')\n",
    "\n",
    "# Display the DataFrame to verify changes\n",
    "df"
   ]
  }
 ],
 "metadata": {
  "kernelspec": {
   "display_name": "base",
   "language": "python",
   "name": "python3"
  },
  "language_info": {
   "codemirror_mode": {
    "name": "ipython",
    "version": 3
   },
   "file_extension": ".py",
   "mimetype": "text/x-python",
   "name": "python",
   "nbconvert_exporter": "python",
   "pygments_lexer": "ipython3",
   "version": "3.9.18"
  }
 },
 "nbformat": 4,
 "nbformat_minor": 2
}
