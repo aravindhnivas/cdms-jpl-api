{
 "cells": [
  {
   "cell_type": "code",
   "execution_count": 3,
   "metadata": {},
   "outputs": [],
   "source": [
    "import requests\n",
    "import pandas as pd\n",
    "from rdkit import Chem\n",
    "from concurrent.futures import ThreadPoolExecutor, as_completed\n",
    "import time\n",
    "\n",
    "from threading import Lock, Semaphore\n",
    "from functools import wraps\n",
    "\n",
    "import cirpy\n",
    "\n",
    "import numpy as np\n",
    "\n",
    "from tenacity import retry, stop_after_attempt, wait_fixed, retry_if_result"
   ]
  },
  {
   "cell_type": "code",
   "execution_count": 4,
   "metadata": {},
   "outputs": [
    {
     "name": "stdout",
     "output_type": "stream",
     "text": [
      "Recommended workers for I/O-bound tasks: 32\n",
      "Recommended workers for CPU-bound tasks: 10\n",
      "\n",
      "CPU cores: 10\n",
      "Logical processors: 10\n",
      "Total RAM: 32.00 GB\n"
     ]
    }
   ],
   "source": [
    "import os\n",
    "import psutil\n",
    "\n",
    "def get_optimal_worker_count(io_bound=True):\n",
    "    cpu_count = os.cpu_count()\n",
    "    if cpu_count is None:\n",
    "        return 4  # Default to 4 if we can't determine CPU count\n",
    "    \n",
    "    if io_bound:\n",
    "        # For I/O bound tasks, we can use more workers\n",
    "        return min(32, cpu_count * 4)\n",
    "    else:\n",
    "        # For CPU bound tasks, use number of CPU cores\n",
    "        return cpu_count\n",
    "\n",
    "# Usage\n",
    "io_bound_workers = get_optimal_worker_count(io_bound=True)\n",
    "cpu_bound_workers = get_optimal_worker_count(io_bound=False)\n",
    "\n",
    "print(f\"Recommended workers for I/O-bound tasks: {io_bound_workers}\")\n",
    "print(f\"Recommended workers for CPU-bound tasks: {cpu_bound_workers}\")\n",
    "\n",
    "# Get more detailed system information\n",
    "print(f\"\\nCPU cores: {psutil.cpu_count(logical=False)}\")\n",
    "print(f\"Logical processors: {psutil.cpu_count(logical=True)}\")\n",
    "print(f\"Total RAM: {psutil.virtual_memory().total / (1024**3):.2f} GB\")"
   ]
  },
  {
   "cell_type": "code",
   "execution_count": 5,
   "metadata": {},
   "outputs": [
    {
     "data": {
      "text/plain": [
       "(['Index',\n",
       "  'Name',\n",
       "  'Synonym',\n",
       "  'Structure',\n",
       "  'Mol. form.',\n",
       "  'CAS Reg. No.',\n",
       "  'Beilstein Reg. No.',\n",
       "  'Mol. wt.',\n",
       "  'Physical form',\n",
       "  'tmp/ºC',\n",
       "  'tbp/ºC',\n",
       "  'Other bp/ºC',\n",
       "  'ρ/g cm-3',\n",
       "  'nD',\n",
       "  's/g kg-1',\n",
       "  'vp/kPa (25 °C)',\n",
       "  'Solubility'],\n",
       " 17)"
      ]
     },
     "execution_count": 5,
     "metadata": {},
     "output_type": "execute_result"
    }
   ],
   "source": [
    "headers = [\n",
    "  \"Index\", \"Name\", \"Synonym\", \"Structure\", \"Mol. form.\", \"CAS Reg. No.\", \"Beilstein Reg. No.\", \"Mol. wt.\",\n",
    "  \"Physical form\", \"tmp/ºC\", \"tbp/ºC\", \"Other bp/ºC\", \"ρ/g cm-3\",\n",
    "  \"nD\", \"s/g kg-1\", \"vp/kPa (25 °C)\", \"Solubility\"\n",
    "]\n",
    "headers = [h.strip() for h in headers]\n",
    "headers, len(headers)"
   ]
  },
  {
   "cell_type": "code",
   "execution_count": null,
   "metadata": {},
   "outputs": [],
   "source": [
    "filename = 'physical_constants_of_organic_compounds_CRC_handbook_data_10902entries.csv'\n",
    "df = pd.read_csv(filename, names=headers, skiprows=1, index_col='Index')\n",
    "# remove structure column\n",
    "df.drop(columns=['Structure'], inplace=True)\n",
    "# df"
   ]
  },
  {
   "cell_type": "code",
   "execution_count": null,
   "metadata": {},
   "outputs": [],
   "source": []
  },
  {
   "cell_type": "code",
   "execution_count": null,
   "metadata": {},
   "outputs": [],
   "source": [
    "class RateLimiter:\n",
    "    def __init__(self, max_calls, period):\n",
    "        self.semaphore = Semaphore(max_calls)\n",
    "        self.period = period\n",
    "        self.lock = Lock()\n",
    "        self.last_reset = time.time()\n",
    "        self.call_count = 0\n",
    "\n",
    "    def __call__(self, func):\n",
    "        @wraps(func)\n",
    "        def wrapped(*args, **kwargs):\n",
    "            with self.lock:\n",
    "                current_time = time.time()\n",
    "                if current_time - self.last_reset >= self.period:\n",
    "                    self.call_count = 0\n",
    "                    self.last_reset = current_time\n",
    "\n",
    "            with self.semaphore:\n",
    "                with self.lock:\n",
    "                    self.call_count += 1\n",
    "                    if self.call_count >= self.semaphore._value:\n",
    "                        sleep_time = self.period - (current_time - self.last_reset)\n",
    "                        if sleep_time > 0:\n",
    "                            time.sleep(sleep_time)\n",
    "                        \n",
    "                        self.call_count = 0\n",
    "                        self.last_reset = time.time()\n",
    "                        \n",
    "                # return func(*args, **kwargs)\n",
    "                result = func(*args, **kwargs)\n",
    "                self.semaphore.release()\n",
    "                return result\n",
    "        return wrapped\n",
    "\n",
    "def retry_if_none(result):\n",
    "    return result is None\n",
    "\n",
    "# Rest of the code remains the same\n",
    "@RateLimiter(max_calls=5, period=1) # 5 requests per second is the maximum allowed by PubChem\n",
    "@retry(stop=stop_after_attempt(2), wait=wait_fixed(1))  # Retry once with a 1-second wait if result is None\n",
    "def get_smiles_from_cas(cas_number):\n",
    "    url = f\"https://pubchem.ncbi.nlm.nih.gov/rest/pug/compound/name/{cas_number}/property/CanonicalSMILES/JSON\"\n",
    "    response = requests.get(url)\n",
    "    if response.status_code == 200:\n",
    "        data = response.json()\n",
    "        smiles = data['PropertyTable']['Properties'][0]['CanonicalSMILES']\n",
    "        return smiles\n",
    "    else:\n",
    "        return None\n",
    "    \n",
    "@RateLimiter(max_calls=5, period=1) # 5 requests per second is the maximum allowed by PubChem\n",
    "@retry(stop=stop_after_attempt(2), wait=wait_fixed(1))  # Retry once with a 1-second wait if result is None\n",
    "def get_smiles_from_cas_nih(cas_number):\n",
    "    url = f\"https://cactus.nci.nih.gov/chemical/structure/{cas_number}/smiles\"\n",
    "    response = requests.get(url)\n",
    "    if response.status_code == 200:\n",
    "        return response.text\n",
    "    else:\n",
    "        return None"
   ]
  },
  {
   "cell_type": "code",
   "execution_count": null,
   "metadata": {},
   "outputs": [],
   "source": [
    "def fetch_and_draw_smiles(cas_number = \"3383-96-8\"):\n",
    "    smiles_demo = get_smiles_from_cas(cas_number)\n",
    "    if smiles_demo:\n",
    "        print(f\"SMILES for CAS {cas_number}: {smiles_demo}\")\n",
    "        m = Chem.MolFromSmiles(smiles_demo)\n",
    "        display(m)\n",
    "        return smiles_demo\n",
    "    else:\n",
    "        print(f\"Could not retrieve SMILES for CAS {cas_number}\")\n",
    "        \n",
    "fetch_and_draw_smiles()"
   ]
  },
  {
   "cell_type": "code",
   "execution_count": null,
   "metadata": {},
   "outputs": [],
   "source": [
    "# df.drop(columns=['SMILES'], inplace=True)\n",
    "# df"
   ]
  },
  {
   "cell_type": "code",
   "execution_count": null,
   "metadata": {},
   "outputs": [],
   "source": [
    "def process_cas_numbers(df, column_name, max_workers=5):\n",
    "    with ThreadPoolExecutor(max_workers=max_workers) as executor:\n",
    "        # Submit all tasks\n",
    "        future_to_index = {executor.submit(get_smiles_from_cas, cas): index \n",
    "                           for index, cas in df[column_name].items()}\n",
    "        \n",
    "        # Process results as they complete\n",
    "        results = {}\n",
    "        for future in as_completed(future_to_index):\n",
    "            index = future_to_index[future]\n",
    "            try:\n",
    "                result = future.result()\n",
    "                results[index] = result\n",
    "            except Exception as exc:\n",
    "                print(f'CAS number at index {index} generated an exception: {exc}')\n",
    "                results[index] = None\n",
    "    \n",
    "    return pd.Series(results)\n"
   ]
  },
  {
   "cell_type": "code",
   "execution_count": null,
   "metadata": {},
   "outputs": [],
   "source": [
    "# Process the DataFrame\n",
    "start_time = time.time()\n",
    "smiles = process_cas_numbers(df.iloc[:25], 'CAS Reg. No.')\n",
    "end_time = time.time()\n",
    "\n",
    "print(f\"Processing time: {end_time - start_time:.2f} seconds\")\n",
    "\n",
    "smiles.isnull().sum(), smiles[smiles.isnull()], smiles.__len__()"
   ]
  },
  {
   "cell_type": "code",
   "execution_count": null,
   "metadata": {},
   "outputs": [],
   "source": [
    "smiles.iloc[0], display(Chem.MolFromSmiles(smiles.iloc[0]))"
   ]
  },
  {
   "cell_type": "code",
   "execution_count": null,
   "metadata": {},
   "outputs": [],
   "source": [
    "# Run the original code for comparison (single-threaded)\n",
    "start_time = time.time()\n",
    "# smiles_old = df.iloc[:100]['CAS Reg. No.'].apply(get_smiles_from_cas)\n",
    "smiles_old = df['CAS Reg. No.'].apply(get_smiles_from_cas)\n",
    "end_time = time.time()\n",
    "\n",
    "print(f\"Processing time: {end_time - start_time:.2f} seconds\")\n",
    "\n",
    "smiles_old.isnull().sum(), smiles_old[smiles_old.isnull()], smiles_old.__len__()"
   ]
  },
  {
   "cell_type": "code",
   "execution_count": null,
   "metadata": {},
   "outputs": [],
   "source": [
    "ind = 48\n",
    "print(f\"{ind=}: {df['SMILES'].iloc[ind]=}\")\n",
    "display(Chem.MolFromSmiles(df['SMILES'].iloc[ind]))\n",
    "fetch_and_draw_smiles(df['CAS Reg. No.'].iloc[ind])"
   ]
  },
  {
   "cell_type": "code",
   "execution_count": 7,
   "metadata": {},
   "outputs": [
    {
     "data": {
      "text/html": [
       "<div>\n",
       "<style scoped>\n",
       "    .dataframe tbody tr th:only-of-type {\n",
       "        vertical-align: middle;\n",
       "    }\n",
       "\n",
       "    .dataframe tbody tr th {\n",
       "        vertical-align: top;\n",
       "    }\n",
       "\n",
       "    .dataframe thead th {\n",
       "        text-align: right;\n",
       "    }\n",
       "</style>\n",
       "<table border=\"1\" class=\"dataframe\">\n",
       "  <thead>\n",
       "    <tr style=\"text-align: right;\">\n",
       "      <th></th>\n",
       "      <th>Name</th>\n",
       "      <th>Synonym</th>\n",
       "      <th>Mol. form.</th>\n",
       "      <th>CAS Reg. No.</th>\n",
       "      <th>Beilstein Reg. No.</th>\n",
       "      <th>Mol. wt.</th>\n",
       "      <th>Physical form</th>\n",
       "      <th>tmp/ºC</th>\n",
       "      <th>tbp/ºC</th>\n",
       "      <th>Other bp/ºC</th>\n",
       "      <th>ρ/g cm-3</th>\n",
       "      <th>nD</th>\n",
       "      <th>s/g kg-1</th>\n",
       "      <th>vp/kPa (25 °C)</th>\n",
       "      <th>Solubility</th>\n",
       "      <th>SMILES</th>\n",
       "    </tr>\n",
       "    <tr>\n",
       "      <th>Index</th>\n",
       "      <th></th>\n",
       "      <th></th>\n",
       "      <th></th>\n",
       "      <th></th>\n",
       "      <th></th>\n",
       "      <th></th>\n",
       "      <th></th>\n",
       "      <th></th>\n",
       "      <th></th>\n",
       "      <th></th>\n",
       "      <th></th>\n",
       "      <th></th>\n",
       "      <th></th>\n",
       "      <th></th>\n",
       "      <th></th>\n",
       "      <th></th>\n",
       "    </tr>\n",
       "  </thead>\n",
       "  <tbody>\n",
       "    <tr>\n",
       "      <th>1</th>\n",
       "      <td>Abate</td>\n",
       "      <td>Temephos</td>\n",
       "      <td>C16H20O6P2S3</td>\n",
       "      <td>3383-96-8</td>\n",
       "      <td>NaN</td>\n",
       "      <td>466.469</td>\n",
       "      <td>cry</td>\n",
       "      <td>31.6(5)</td>\n",
       "      <td>NaN</td>\n",
       "      <td>NaN</td>\n",
       "      <td>1.32</td>\n",
       "      <td>NaN</td>\n",
       "      <td>NaN</td>\n",
       "      <td>NaN</td>\n",
       "      <td>sl H2O, hx; s ctc, eth, tol</td>\n",
       "      <td>COP(=S)(OC)OC1=CC=C(C=C1)SC2=CC=C(C=C2)OP(=S)(...</td>\n",
       "    </tr>\n",
       "    <tr>\n",
       "      <th>2</th>\n",
       "      <td>Abietic acid</td>\n",
       "      <td>Sylvic acid</td>\n",
       "      <td>C20H30O2</td>\n",
       "      <td>514-10-3</td>\n",
       "      <td>2221451.0</td>\n",
       "      <td>302.451</td>\n",
       "      <td>mcl pl (al-w)</td>\n",
       "      <td>173.5</td>\n",
       "      <td>439.5</td>\n",
       "      <td>2509</td>\n",
       "      <td>1.0625</td>\n",
       "      <td>NaN</td>\n",
       "      <td>NaN</td>\n",
       "      <td>NaN</td>\n",
       "      <td>vs ace, bz, eth, EtOH</td>\n",
       "      <td>CC(C)C1=CC2=CCC3C(C2CC1)(CCCC3(C)C(=O)O)C</td>\n",
       "    </tr>\n",
       "    <tr>\n",
       "      <th>3</th>\n",
       "      <td>Abscisic acid</td>\n",
       "      <td>NaN</td>\n",
       "      <td>C15H20O4</td>\n",
       "      <td>21293-29-8</td>\n",
       "      <td>2698956.0</td>\n",
       "      <td>264.318</td>\n",
       "      <td>cry (chl-peth)</td>\n",
       "      <td>160</td>\n",
       "      <td>120 subl</td>\n",
       "      <td>NaN</td>\n",
       "      <td>NaN</td>\n",
       "      <td>NaN</td>\n",
       "      <td>NaN</td>\n",
       "      <td>NaN</td>\n",
       "      <td>vs ace, eth, chl</td>\n",
       "      <td>CC1=CC(=O)CC(C1(C=CC(=CC(=O)O)C)O)(C)C</td>\n",
       "    </tr>\n",
       "    <tr>\n",
       "      <th>4</th>\n",
       "      <td>Acacetin</td>\n",
       "      <td>5,7-Dihydroxy-2-(4-methoxyphenyl)-4H-1-benzopy...</td>\n",
       "      <td>C16H12O5</td>\n",
       "      <td>480-44-4</td>\n",
       "      <td>277879.0</td>\n",
       "      <td>284.263</td>\n",
       "      <td>ye nd (95% al)</td>\n",
       "      <td>263</td>\n",
       "      <td>NaN</td>\n",
       "      <td>NaN</td>\n",
       "      <td>NaN</td>\n",
       "      <td>NaN</td>\n",
       "      <td>NaN</td>\n",
       "      <td>NaN</td>\n",
       "      <td>vs EtOH</td>\n",
       "      <td>COC1=CC=C(C=C1)C2=CC(=O)C3=C(C=C(C=C3O2)O)O</td>\n",
       "    </tr>\n",
       "    <tr>\n",
       "      <th>5</th>\n",
       "      <td>Acebutolol, (±)-</td>\n",
       "      <td>NaN</td>\n",
       "      <td>C18H28N2O4</td>\n",
       "      <td>37517-30-9</td>\n",
       "      <td>NaN</td>\n",
       "      <td>336.426</td>\n",
       "      <td>cry</td>\n",
       "      <td>121</td>\n",
       "      <td>NaN</td>\n",
       "      <td>NaN</td>\n",
       "      <td>NaN</td>\n",
       "      <td>NaN</td>\n",
       "      <td>NaN</td>\n",
       "      <td>NaN</td>\n",
       "      <td>NaN</td>\n",
       "      <td>CCCC(=O)NC1=CC(=C(C=C1)OCC(CNC(C)C)O)C(=O)C</td>\n",
       "    </tr>\n",
       "    <tr>\n",
       "      <th>...</th>\n",
       "      <td>...</td>\n",
       "      <td>...</td>\n",
       "      <td>...</td>\n",
       "      <td>...</td>\n",
       "      <td>...</td>\n",
       "      <td>...</td>\n",
       "      <td>...</td>\n",
       "      <td>...</td>\n",
       "      <td>...</td>\n",
       "      <td>...</td>\n",
       "      <td>...</td>\n",
       "      <td>...</td>\n",
       "      <td>...</td>\n",
       "      <td>...</td>\n",
       "      <td>...</td>\n",
       "      <td>...</td>\n",
       "    </tr>\n",
       "    <tr>\n",
       "      <th>10898</th>\n",
       "      <td>Zinc gluconate</td>\n",
       "      <td>NaN</td>\n",
       "      <td>C12H22O14Zn</td>\n",
       "      <td>4468-02-4</td>\n",
       "      <td>NaN</td>\n",
       "      <td>455.704</td>\n",
       "      <td>pow</td>\n",
       "      <td>NaN</td>\n",
       "      <td>NaN</td>\n",
       "      <td>NaN</td>\n",
       "      <td>NaN</td>\n",
       "      <td>NaN</td>\n",
       "      <td>NaN</td>\n",
       "      <td>NaN</td>\n",
       "      <td>NaN</td>\n",
       "      <td>C(C(C(C(C(C(=O)[O-])O)O)O)O)O.C(C(C(C(C(C(=O)[...</td>\n",
       "    </tr>\n",
       "    <tr>\n",
       "      <th>10899</th>\n",
       "      <td>Zinc 2,4-pentanedioate</td>\n",
       "      <td>Zinc acetylacetonate</td>\n",
       "      <td>C10H14O4Zn</td>\n",
       "      <td>14024-63-6</td>\n",
       "      <td>4157976.0</td>\n",
       "      <td>263.625</td>\n",
       "      <td>cry</td>\n",
       "      <td>127.3(2)</td>\n",
       "      <td>NaN</td>\n",
       "      <td>NaN</td>\n",
       "      <td>NaN</td>\n",
       "      <td>NaN</td>\n",
       "      <td>NaN</td>\n",
       "      <td>NaN</td>\n",
       "      <td>sl H2O; s EtOH, DMSO</td>\n",
       "      <td>CC(=CC(=O)C)O.CC(=CC(=O)C)O.[Zn]</td>\n",
       "    </tr>\n",
       "    <tr>\n",
       "      <th>10900</th>\n",
       "      <td>Zinc propanoate</td>\n",
       "      <td>NaN</td>\n",
       "      <td>C6H10O4Zn</td>\n",
       "      <td>557-28-8</td>\n",
       "      <td>NaN</td>\n",
       "      <td>211.550</td>\n",
       "      <td>hyg pl or nd</td>\n",
       "      <td>NaN</td>\n",
       "      <td>NaN</td>\n",
       "      <td>NaN</td>\n",
       "      <td>NaN</td>\n",
       "      <td>NaN</td>\n",
       "      <td>NaN</td>\n",
       "      <td>NaN</td>\n",
       "      <td>sl EtOH</td>\n",
       "      <td>CCC(=O)[O-].CCC(=O)[O-].[Zn+2]</td>\n",
       "    </tr>\n",
       "    <tr>\n",
       "      <th>10901</th>\n",
       "      <td>Ziram</td>\n",
       "      <td>Zinc, bis(dimethylcarbamodithioato-S,S')-, (T-4)-</td>\n",
       "      <td>C6H12N2S4Zn</td>\n",
       "      <td>137-30-4</td>\n",
       "      <td>NaN</td>\n",
       "      <td>305.841</td>\n",
       "      <td>cry</td>\n",
       "      <td>250</td>\n",
       "      <td>NaN</td>\n",
       "      <td>NaN</td>\n",
       "      <td>1.6625</td>\n",
       "      <td>NaN</td>\n",
       "      <td>0.06520</td>\n",
       "      <td>NaN</td>\n",
       "      <td>i H2O; sl bz; s chl</td>\n",
       "      <td>CN(C)C(=S)[S-].CN(C)C(=S)[S-].[Zn+2]</td>\n",
       "    </tr>\n",
       "    <tr>\n",
       "      <th>10902</th>\n",
       "      <td>Zirconocene dichloride</td>\n",
       "      <td>Bis(cyclopentadienyl)zirconium chloride</td>\n",
       "      <td>C10H10Cl2Zr</td>\n",
       "      <td>1291-32-3</td>\n",
       "      <td>NaN</td>\n",
       "      <td>292.316</td>\n",
       "      <td>col cry</td>\n",
       "      <td>248</td>\n",
       "      <td>150 subl</td>\n",
       "      <td>1800.5</td>\n",
       "      <td>NaN</td>\n",
       "      <td>NaN</td>\n",
       "      <td>NaN</td>\n",
       "      <td>NaN</td>\n",
       "      <td>NaN</td>\n",
       "      <td>Cl[Zr](Cl)(C1C=CC=C1)C2C=CC=C2</td>\n",
       "    </tr>\n",
       "  </tbody>\n",
       "</table>\n",
       "<p>10902 rows × 16 columns</p>\n",
       "</div>"
      ],
      "text/plain": [
       "                         Name  \\\n",
       "Index                           \n",
       "1                       Abate   \n",
       "2                Abietic acid   \n",
       "3               Abscisic acid   \n",
       "4                    Acacetin   \n",
       "5            Acebutolol, (±)-   \n",
       "...                       ...   \n",
       "10898          Zinc gluconate   \n",
       "10899  Zinc 2,4-pentanedioate   \n",
       "10900         Zinc propanoate   \n",
       "10901                   Ziram   \n",
       "10902  Zirconocene dichloride   \n",
       "\n",
       "                                                 Synonym    Mol. form.  \\\n",
       "Index                                                                    \n",
       "1                                               Temephos  C16H20O6P2S3   \n",
       "2                                            Sylvic acid      C20H30O2   \n",
       "3                                                    NaN      C15H20O4   \n",
       "4      5,7-Dihydroxy-2-(4-methoxyphenyl)-4H-1-benzopy...      C16H12O5   \n",
       "5                                                    NaN    C18H28N2O4   \n",
       "...                                                  ...           ...   \n",
       "10898                                                NaN   C12H22O14Zn   \n",
       "10899                               Zinc acetylacetonate    C10H14O4Zn   \n",
       "10900                                                NaN     C6H10O4Zn   \n",
       "10901  Zinc, bis(dimethylcarbamodithioato-S,S')-, (T-4)-   C6H12N2S4Zn   \n",
       "10902            Bis(cyclopentadienyl)zirconium chloride   C10H10Cl2Zr   \n",
       "\n",
       "      CAS Reg. No.  Beilstein Reg. No.  Mol. wt.   Physical form    tmp/ºC  \\\n",
       "Index                                                                        \n",
       "1        3383-96-8                 NaN   466.469             cry   31.6(5)   \n",
       "2         514-10-3           2221451.0   302.451   mcl pl (al-w)     173.5   \n",
       "3       21293-29-8           2698956.0   264.318  cry (chl-peth)       160   \n",
       "4         480-44-4            277879.0   284.263  ye nd (95% al)       263   \n",
       "5       37517-30-9                 NaN   336.426             cry       121   \n",
       "...            ...                 ...       ...             ...       ...   \n",
       "10898    4468-02-4                 NaN   455.704             pow       NaN   \n",
       "10899   14024-63-6           4157976.0   263.625             cry  127.3(2)   \n",
       "10900     557-28-8                 NaN   211.550    hyg pl or nd       NaN   \n",
       "10901     137-30-4                 NaN   305.841             cry       250   \n",
       "10902    1291-32-3                 NaN   292.316         col cry       248   \n",
       "\n",
       "         tbp/ºC Other bp/ºC ρ/g cm-3   nD s/g kg-1 vp/kPa (25 °C)  \\\n",
       "Index                                                               \n",
       "1           NaN         NaN     1.32  NaN      NaN            NaN   \n",
       "2         439.5        2509   1.0625  NaN      NaN            NaN   \n",
       "3      120 subl         NaN      NaN  NaN      NaN            NaN   \n",
       "4           NaN         NaN      NaN  NaN      NaN            NaN   \n",
       "5           NaN         NaN      NaN  NaN      NaN            NaN   \n",
       "...         ...         ...      ...  ...      ...            ...   \n",
       "10898       NaN         NaN      NaN  NaN      NaN            NaN   \n",
       "10899       NaN         NaN      NaN  NaN      NaN            NaN   \n",
       "10900       NaN         NaN      NaN  NaN      NaN            NaN   \n",
       "10901       NaN         NaN   1.6625  NaN  0.06520            NaN   \n",
       "10902  150 subl      1800.5      NaN  NaN      NaN            NaN   \n",
       "\n",
       "                        Solubility  \\\n",
       "Index                                \n",
       "1      sl H2O, hx; s ctc, eth, tol   \n",
       "2            vs ace, bz, eth, EtOH   \n",
       "3                 vs ace, eth, chl   \n",
       "4                          vs EtOH   \n",
       "5                              NaN   \n",
       "...                            ...   \n",
       "10898                          NaN   \n",
       "10899         sl H2O; s EtOH, DMSO   \n",
       "10900                      sl EtOH   \n",
       "10901          i H2O; sl bz; s chl   \n",
       "10902                          NaN   \n",
       "\n",
       "                                                  SMILES  \n",
       "Index                                                     \n",
       "1      COP(=S)(OC)OC1=CC=C(C=C1)SC2=CC=C(C=C2)OP(=S)(...  \n",
       "2              CC(C)C1=CC2=CCC3C(C2CC1)(CCCC3(C)C(=O)O)C  \n",
       "3                 CC1=CC(=O)CC(C1(C=CC(=CC(=O)O)C)O)(C)C  \n",
       "4            COC1=CC=C(C=C1)C2=CC(=O)C3=C(C=C(C=C3O2)O)O  \n",
       "5            CCCC(=O)NC1=CC(=C(C=C1)OCC(CNC(C)C)O)C(=O)C  \n",
       "...                                                  ...  \n",
       "10898  C(C(C(C(C(C(=O)[O-])O)O)O)O)O.C(C(C(C(C(C(=O)[...  \n",
       "10899                   CC(=CC(=O)C)O.CC(=CC(=O)C)O.[Zn]  \n",
       "10900                     CCC(=O)[O-].CCC(=O)[O-].[Zn+2]  \n",
       "10901               CN(C)C(=S)[S-].CN(C)C(=S)[S-].[Zn+2]  \n",
       "10902                     Cl[Zr](Cl)(C1C=CC=C1)C2C=CC=C2  \n",
       "\n",
       "[10902 rows x 16 columns]"
      ]
     },
     "execution_count": 7,
     "metadata": {},
     "output_type": "execute_result"
    }
   ],
   "source": [
    "filename = 'constants_with_smiles_updated.csv'\n",
    "df = pd.read_csv(filename, index_col='Index')\n",
    "df"
   ]
  },
  {
   "cell_type": "code",
   "execution_count": 31,
   "metadata": {},
   "outputs": [
    {
     "data": {
      "image/png": "[encoded data removed]",
      "text/plain": [
       "<rdkit.Chem.rdchem.Mol at 0x30acba430>"
      ]
     },
     "execution_count": 31,
     "metadata": {},
     "output_type": "execute_result"
    }
   ],
   "source": [
    "Chem.MolFromSmiles(df['SMILES'].at[8980])"
   ]
  },
  {
   "cell_type": "code",
   "execution_count": null,
   "metadata": {},
   "outputs": [],
   "source": [
    "df['SMILES'][df['SMILES'].isnull()].index"
   ]
  },
  {
   "cell_type": "code",
   "execution_count": null,
   "metadata": {},
   "outputs": [],
   "source": [
    "# random number between 0 and 10902\n",
    "val = []\n",
    "for _ in range(100):\n",
    "    ind = np.random.randint(0, 10902)\n",
    "    read_cas_number = df['CAS Reg. No.'].at[ind]\n",
    "    computed_smi = get_smiles_from_cas(read_cas_number)\n",
    "    read_smi = df['SMILES'].at[ind]\n",
    "    temp = read_smi == computed_smi\n",
    "    if not temp:\n",
    "        computed_smi = cirpy.resolve(df['CAS Reg. No.'].at[ind], 'smiles')\n",
    "        time.sleep(1)\n",
    "        temp = read_smi == computed_smi\n",
    "        print(f\"{ind=}\")\n",
    "    val.append(temp)\n",
    "\n",
    "print(np.array(val).all())"
   ]
  },
  {
   "cell_type": "code",
   "execution_count": null,
   "metadata": {},
   "outputs": [],
   "source": [
    "ind = 214\n",
    "df['SMILES'].at[ind], df['CAS Reg. No.'].at[ind], get_smiles_from_cas(df['CAS Reg. No.'].at[ind]), cirpy.resolve(df['CAS Reg. No.'].at[ind], 'smiles')"
   ]
  },
  {
   "cell_type": "code",
   "execution_count": null,
   "metadata": {},
   "outputs": [],
   "source": [
    "null_indices = df['SMILES'][df['SMILES'].isnull()].index\n",
    "null_indices"
   ]
  },
  {
   "cell_type": "code",
   "execution_count": null,
   "metadata": {},
   "outputs": [],
   "source": [
    "idx = 308\n",
    "get_smiles_from_cas_nih(df['CAS Reg. No.'].at[idx]), cirpy.resolve(df['CAS Reg. No.'].at[idx], 'smiles')"
   ]
  },
  {
   "cell_type": "code",
   "execution_count": null,
   "metadata": {},
   "outputs": [],
   "source": [
    "null_indices = df['SMILES'][df['SMILES'].isnull()].index\n",
    "null_indices, len(null_indices)"
   ]
  },
  {
   "cell_type": "code",
   "execution_count": null,
   "metadata": {},
   "outputs": [],
   "source": [
    "new_smiles = []\n",
    "for idx in null_indices:\n",
    "    # smi = get_smiles_from_cas_nih(df['CAS Reg. No.'].at[idx])\n",
    "    smi = cirpy.resolve(df['CAS Reg. No.'].at[idx], 'smiles')\n",
    "    time.sleep(1)\n",
    "    new_smiles.append(smi)\n",
    "\n",
    "# new_smiles"
   ]
  },
  {
   "cell_type": "code",
   "execution_count": null,
   "metadata": {},
   "outputs": [],
   "source": [
    "df['SMILES'].loc[null_indices] = new_smiles"
   ]
  },
  {
   "cell_type": "code",
   "execution_count": null,
   "metadata": {},
   "outputs": [],
   "source": [
    "df.to_csv('constants_with_smiles_updated.csv')"
   ]
  },
  {
   "cell_type": "code",
   "execution_count": null,
   "metadata": {},
   "outputs": [],
   "source": [
    "df.columns"
   ]
  },
  {
   "cell_type": "code",
   "execution_count": null,
   "metadata": {},
   "outputs": [],
   "source": [
    "for col in ['tmp/ºC', 'tbp/ºC', 'Other bp/ºC', 'ρ/g cm-3', 'nD', 's/g kg-1', 'vp/kPa (25 °C)',  'SMILES']:\n",
    "    # col = 'vp/kPa (25 °C)'\n",
    "    temp = df[col][~df[col].isnull()]\n",
    "    print(col, temp.__len__())"
   ]
  },
  {
   "cell_type": "code",
   "execution_count": 82,
   "metadata": {},
   "outputs": [
    {
     "data": {
      "text/plain": [
       "Index\n",
       "1          31.6(5)\n",
       "2            173.5\n",
       "3              160\n",
       "4              263\n",
       "5              121\n",
       "           ...    \n",
       "10896    -33.34(2)\n",
       "10897      157 dec\n",
       "10899     127.3(2)\n",
       "10901          250\n",
       "10902          248\n",
       "Name: tmp/ºC, Length: 7982, dtype: object"
      ]
     },
     "execution_count": 82,
     "metadata": {},
     "output_type": "execute_result"
    }
   ],
   "source": [
    "col = 'tmp/ºC'\n",
    "df_mp = df[col][~df[col].isnull()]\n",
    "df_mp"
   ]
  },
  {
   "cell_type": "code",
   "execution_count": 106,
   "metadata": {},
   "outputs": [
    {
     "data": {
      "text/plain": [
       "'dec'"
      ]
     },
     "execution_count": 106,
     "metadata": {},
     "output_type": "execute_result"
    }
   ],
   "source": [
    "df[col].at[250]"
   ]
  },
  {
   "cell_type": "code",
   "execution_count": 128,
   "metadata": {},
   "outputs": [
    {
     "data": {
      "text/html": [
       "<div>\n",
       "<style scoped>\n",
       "    .dataframe tbody tr th:only-of-type {\n",
       "        vertical-align: middle;\n",
       "    }\n",
       "\n",
       "    .dataframe tbody tr th {\n",
       "        vertical-align: top;\n",
       "    }\n",
       "\n",
       "    .dataframe thead th {\n",
       "        text-align: right;\n",
       "    }\n",
       "</style>\n",
       "<table border=\"1\" class=\"dataframe\">\n",
       "  <thead>\n",
       "    <tr style=\"text-align: right;\">\n",
       "      <th></th>\n",
       "      <th>SMILES</th>\n",
       "      <th>Melting point (C)</th>\n",
       "    </tr>\n",
       "  </thead>\n",
       "  <tbody>\n",
       "    <tr>\n",
       "      <th>0</th>\n",
       "      <td>COP(=S)(OC)OC1=CC=C(C=C1)SC2=CC=C(C=C2)OP(=S)(...</td>\n",
       "      <td>31.6(5)</td>\n",
       "    </tr>\n",
       "    <tr>\n",
       "      <th>1</th>\n",
       "      <td>CC(C)C1=CC2=CCC3C(C2CC1)(CCCC3(C)C(=O)O)C</td>\n",
       "      <td>173.5</td>\n",
       "    </tr>\n",
       "    <tr>\n",
       "      <th>2</th>\n",
       "      <td>CC1=CC(=O)CC(C1(C=CC(=CC(=O)O)C)O)(C)C</td>\n",
       "      <td>160</td>\n",
       "    </tr>\n",
       "    <tr>\n",
       "      <th>3</th>\n",
       "      <td>COC1=CC=C(C=C1)C2=CC(=O)C3=C(C=C(C=C3O2)O)O</td>\n",
       "      <td>263</td>\n",
       "    </tr>\n",
       "    <tr>\n",
       "      <th>4</th>\n",
       "      <td>CCCC(=O)NC1=CC(=C(C=C1)OCC(CNC(C)C)O)C(=O)C</td>\n",
       "      <td>121</td>\n",
       "    </tr>\n",
       "    <tr>\n",
       "      <th>...</th>\n",
       "      <td>...</td>\n",
       "      <td>...</td>\n",
       "    </tr>\n",
       "    <tr>\n",
       "      <th>7977</th>\n",
       "      <td>C[CH2-].C[CH2-].[Zn+2]</td>\n",
       "      <td>-33.34(2)</td>\n",
       "    </tr>\n",
       "    <tr>\n",
       "      <th>7978</th>\n",
       "      <td>C(CNC(=S)[S-])NC(=S)[S-].[Zn+2]</td>\n",
       "      <td>157 dec</td>\n",
       "    </tr>\n",
       "    <tr>\n",
       "      <th>7979</th>\n",
       "      <td>CC(=CC(=O)C)O.CC(=CC(=O)C)O.[Zn]</td>\n",
       "      <td>127.3(2)</td>\n",
       "    </tr>\n",
       "    <tr>\n",
       "      <th>7980</th>\n",
       "      <td>CN(C)C(=S)[S-].CN(C)C(=S)[S-].[Zn+2]</td>\n",
       "      <td>250</td>\n",
       "    </tr>\n",
       "    <tr>\n",
       "      <th>7981</th>\n",
       "      <td>Cl[Zr](Cl)(C1C=CC=C1)C2C=CC=C2</td>\n",
       "      <td>248</td>\n",
       "    </tr>\n",
       "  </tbody>\n",
       "</table>\n",
       "<p>7982 rows × 2 columns</p>\n",
       "</div>"
      ],
      "text/plain": [
       "                                                 SMILES Melting point (C)\n",
       "0     COP(=S)(OC)OC1=CC=C(C=C1)SC2=CC=C(C=C2)OP(=S)(...           31.6(5)\n",
       "1             CC(C)C1=CC2=CCC3C(C2CC1)(CCCC3(C)C(=O)O)C             173.5\n",
       "2                CC1=CC(=O)CC(C1(C=CC(=CC(=O)O)C)O)(C)C               160\n",
       "3           COC1=CC=C(C=C1)C2=CC(=O)C3=C(C=C(C=C3O2)O)O               263\n",
       "4           CCCC(=O)NC1=CC(=C(C=C1)OCC(CNC(C)C)O)C(=O)C               121\n",
       "...                                                 ...               ...\n",
       "7977                             C[CH2-].C[CH2-].[Zn+2]         -33.34(2)\n",
       "7978                    C(CNC(=S)[S-])NC(=S)[S-].[Zn+2]           157 dec\n",
       "7979                   CC(=CC(=O)C)O.CC(=CC(=O)C)O.[Zn]          127.3(2)\n",
       "7980               CN(C)C(=S)[S-].CN(C)C(=S)[S-].[Zn+2]               250\n",
       "7981                     Cl[Zr](Cl)(C1C=CC=C1)C2C=CC=C2               248\n",
       "\n",
       "[7982 rows x 2 columns]"
      ]
     },
     "execution_count": 128,
     "metadata": {},
     "output_type": "execute_result"
    }
   ],
   "source": [
    "new_df = pd.DataFrame({\n",
    "    'SMILES': df.loc[df_mp.index, 'SMILES'],\n",
    "    'Melting point (C)': df.loc[df_mp.index, col],\n",
    "}).reset_index(drop=True)\n",
    "\n",
    "# new_df.to_csv('melting_points.csv')\n",
    "# new_df.set_index('SMILES', inplace=True)\n",
    "new_df"
   ]
  },
  {
   "cell_type": "code",
   "execution_count": 152,
   "metadata": {},
   "outputs": [
    {
     "data": {
      "text/plain": [
       "0"
      ]
     },
     "execution_count": 152,
     "metadata": {},
     "output_type": "execute_result"
    }
   ],
   "source": [
    "invalid_smi = new_df['SMILES'].isnull()\n",
    "invalid_smi.sum()"
   ]
  },
  {
   "cell_type": "code",
   "execution_count": 151,
   "metadata": {},
   "outputs": [
    {
     "data": {
      "text/html": [
       "<div>\n",
       "<style scoped>\n",
       "    .dataframe tbody tr th:only-of-type {\n",
       "        vertical-align: middle;\n",
       "    }\n",
       "\n",
       "    .dataframe tbody tr th {\n",
       "        vertical-align: top;\n",
       "    }\n",
       "\n",
       "    .dataframe thead th {\n",
       "        text-align: right;\n",
       "    }\n",
       "</style>\n",
       "<table border=\"1\" class=\"dataframe\">\n",
       "  <thead>\n",
       "    <tr style=\"text-align: right;\">\n",
       "      <th></th>\n",
       "      <th>SMILES</th>\n",
       "      <th>Melting point (C)</th>\n",
       "      <th>MP (processed)</th>\n",
       "    </tr>\n",
       "  </thead>\n",
       "  <tbody>\n",
       "    <tr>\n",
       "      <th>0</th>\n",
       "      <td>COP(=S)(OC)OC1=CC=C(C=C1)SC2=CC=C(C=C2)OP(=S)(...</td>\n",
       "      <td>31.6(5)</td>\n",
       "      <td>31.60</td>\n",
       "    </tr>\n",
       "    <tr>\n",
       "      <th>1</th>\n",
       "      <td>CC(C)C1=CC2=CCC3C(C2CC1)(CCCC3(C)C(=O)O)C</td>\n",
       "      <td>173.5</td>\n",
       "      <td>173.50</td>\n",
       "    </tr>\n",
       "    <tr>\n",
       "      <th>2</th>\n",
       "      <td>CC1=CC(=O)CC(C1(C=CC(=CC(=O)O)C)O)(C)C</td>\n",
       "      <td>160</td>\n",
       "      <td>160.00</td>\n",
       "    </tr>\n",
       "    <tr>\n",
       "      <th>3</th>\n",
       "      <td>COC1=CC=C(C=C1)C2=CC(=O)C3=C(C=C(C=C3O2)O)O</td>\n",
       "      <td>263</td>\n",
       "      <td>263.00</td>\n",
       "    </tr>\n",
       "    <tr>\n",
       "      <th>4</th>\n",
       "      <td>CCCC(=O)NC1=CC(=C(C=C1)OCC(CNC(C)C)O)C(=O)C</td>\n",
       "      <td>121</td>\n",
       "      <td>121.00</td>\n",
       "    </tr>\n",
       "    <tr>\n",
       "      <th>...</th>\n",
       "      <td>...</td>\n",
       "      <td>...</td>\n",
       "      <td>...</td>\n",
       "    </tr>\n",
       "    <tr>\n",
       "      <th>7976</th>\n",
       "      <td>CCCCN(CCCC)C(=S)[S-].CCCCN(CCCC)C(=S)[S-].[Zn+2]</td>\n",
       "      <td>138</td>\n",
       "      <td>138.00</td>\n",
       "    </tr>\n",
       "    <tr>\n",
       "      <th>7977</th>\n",
       "      <td>C[CH2-].C[CH2-].[Zn+2]</td>\n",
       "      <td>-33.34(2)</td>\n",
       "      <td>-33.34</td>\n",
       "    </tr>\n",
       "    <tr>\n",
       "      <th>7979</th>\n",
       "      <td>CC(=CC(=O)C)O.CC(=CC(=O)C)O.[Zn]</td>\n",
       "      <td>127.3(2)</td>\n",
       "      <td>127.30</td>\n",
       "    </tr>\n",
       "    <tr>\n",
       "      <th>7980</th>\n",
       "      <td>CN(C)C(=S)[S-].CN(C)C(=S)[S-].[Zn+2]</td>\n",
       "      <td>250</td>\n",
       "      <td>250.00</td>\n",
       "    </tr>\n",
       "    <tr>\n",
       "      <th>7981</th>\n",
       "      <td>Cl[Zr](Cl)(C1C=CC=C1)C2C=CC=C2</td>\n",
       "      <td>248</td>\n",
       "      <td>248.00</td>\n",
       "    </tr>\n",
       "  </tbody>\n",
       "</table>\n",
       "<p>7437 rows × 3 columns</p>\n",
       "</div>"
      ],
      "text/plain": [
       "                                                 SMILES Melting point (C)  \\\n",
       "0     COP(=S)(OC)OC1=CC=C(C=C1)SC2=CC=C(C=C2)OP(=S)(...           31.6(5)   \n",
       "1             CC(C)C1=CC2=CCC3C(C2CC1)(CCCC3(C)C(=O)O)C             173.5   \n",
       "2                CC1=CC(=O)CC(C1(C=CC(=CC(=O)O)C)O)(C)C               160   \n",
       "3           COC1=CC=C(C=C1)C2=CC(=O)C3=C(C=C(C=C3O2)O)O               263   \n",
       "4           CCCC(=O)NC1=CC(=C(C=C1)OCC(CNC(C)C)O)C(=O)C               121   \n",
       "...                                                 ...               ...   \n",
       "7976   CCCCN(CCCC)C(=S)[S-].CCCCN(CCCC)C(=S)[S-].[Zn+2]               138   \n",
       "7977                             C[CH2-].C[CH2-].[Zn+2]         -33.34(2)   \n",
       "7979                   CC(=CC(=O)C)O.CC(=CC(=O)C)O.[Zn]          127.3(2)   \n",
       "7980               CN(C)C(=S)[S-].CN(C)C(=S)[S-].[Zn+2]               250   \n",
       "7981                     Cl[Zr](Cl)(C1C=CC=C1)C2C=CC=C2               248   \n",
       "\n",
       "      MP (processed)  \n",
       "0              31.60  \n",
       "1             173.50  \n",
       "2             160.00  \n",
       "3             263.00  \n",
       "4             121.00  \n",
       "...              ...  \n",
       "7976          138.00  \n",
       "7977          -33.34  \n",
       "7979          127.30  \n",
       "7980          250.00  \n",
       "7981          248.00  \n",
       "\n",
       "[7437 rows x 3 columns]"
      ]
     },
     "execution_count": 151,
     "metadata": {},
     "output_type": "execute_result"
    }
   ],
   "source": [
    "new_df = new_df[~invalid_smi]\n",
    "new_df"
   ]
  },
  {
   "cell_type": "code",
   "execution_count": 130,
   "metadata": {},
   "outputs": [
    {
     "data": {
      "text/plain": [
       "0"
      ]
     },
     "execution_count": 130,
     "metadata": {},
     "output_type": "execute_result"
    }
   ],
   "source": [
    "new_df['Melting point (C)'].isna().sum()"
   ]
  },
  {
   "cell_type": "code",
   "execution_count": 153,
   "metadata": {},
   "outputs": [],
   "source": [
    "new_df.to_csv('melting_points_updated.csv')"
   ]
  },
  {
   "cell_type": "code",
   "execution_count": 129,
   "metadata": {},
   "outputs": [
    {
     "data": {
      "text/html": [
       "<div>\n",
       "<style scoped>\n",
       "    .dataframe tbody tr th:only-of-type {\n",
       "        vertical-align: middle;\n",
       "    }\n",
       "\n",
       "    .dataframe tbody tr th {\n",
       "        vertical-align: top;\n",
       "    }\n",
       "\n",
       "    .dataframe thead th {\n",
       "        text-align: right;\n",
       "    }\n",
       "</style>\n",
       "<table border=\"1\" class=\"dataframe\">\n",
       "  <thead>\n",
       "    <tr style=\"text-align: right;\">\n",
       "      <th></th>\n",
       "      <th>SMILES</th>\n",
       "      <th>Melting point (C)</th>\n",
       "      <th>MP (processed)</th>\n",
       "    </tr>\n",
       "  </thead>\n",
       "  <tbody>\n",
       "    <tr>\n",
       "      <th>0</th>\n",
       "      <td>COP(=S)(OC)OC1=CC=C(C=C1)SC2=CC=C(C=C2)OP(=S)(...</td>\n",
       "      <td>31.6(5)</td>\n",
       "      <td>31.60</td>\n",
       "    </tr>\n",
       "    <tr>\n",
       "      <th>1</th>\n",
       "      <td>CC(C)C1=CC2=CCC3C(C2CC1)(CCCC3(C)C(=O)O)C</td>\n",
       "      <td>173.5</td>\n",
       "      <td>173.50</td>\n",
       "    </tr>\n",
       "    <tr>\n",
       "      <th>2</th>\n",
       "      <td>CC1=CC(=O)CC(C1(C=CC(=CC(=O)O)C)O)(C)C</td>\n",
       "      <td>160</td>\n",
       "      <td>160.00</td>\n",
       "    </tr>\n",
       "    <tr>\n",
       "      <th>3</th>\n",
       "      <td>COC1=CC=C(C=C1)C2=CC(=O)C3=C(C=C(C=C3O2)O)O</td>\n",
       "      <td>263</td>\n",
       "      <td>263.00</td>\n",
       "    </tr>\n",
       "    <tr>\n",
       "      <th>4</th>\n",
       "      <td>CCCC(=O)NC1=CC(=C(C=C1)OCC(CNC(C)C)O)C(=O)C</td>\n",
       "      <td>121</td>\n",
       "      <td>121.00</td>\n",
       "    </tr>\n",
       "    <tr>\n",
       "      <th>...</th>\n",
       "      <td>...</td>\n",
       "      <td>...</td>\n",
       "      <td>...</td>\n",
       "    </tr>\n",
       "    <tr>\n",
       "      <th>7977</th>\n",
       "      <td>C[CH2-].C[CH2-].[Zn+2]</td>\n",
       "      <td>-33.34(2)</td>\n",
       "      <td>-33.34</td>\n",
       "    </tr>\n",
       "    <tr>\n",
       "      <th>7978</th>\n",
       "      <td>C(CNC(=S)[S-])NC(=S)[S-].[Zn+2]</td>\n",
       "      <td>157 dec</td>\n",
       "      <td>157.00</td>\n",
       "    </tr>\n",
       "    <tr>\n",
       "      <th>7979</th>\n",
       "      <td>CC(=CC(=O)C)O.CC(=CC(=O)C)O.[Zn]</td>\n",
       "      <td>127.3(2)</td>\n",
       "      <td>127.30</td>\n",
       "    </tr>\n",
       "    <tr>\n",
       "      <th>7980</th>\n",
       "      <td>CN(C)C(=S)[S-].CN(C)C(=S)[S-].[Zn+2]</td>\n",
       "      <td>250</td>\n",
       "      <td>250.00</td>\n",
       "    </tr>\n",
       "    <tr>\n",
       "      <th>7981</th>\n",
       "      <td>Cl[Zr](Cl)(C1C=CC=C1)C2C=CC=C2</td>\n",
       "      <td>248</td>\n",
       "      <td>248.00</td>\n",
       "    </tr>\n",
       "  </tbody>\n",
       "</table>\n",
       "<p>7982 rows × 3 columns</p>\n",
       "</div>"
      ],
      "text/plain": [
       "                                                 SMILES Melting point (C)  \\\n",
       "0     COP(=S)(OC)OC1=CC=C(C=C1)SC2=CC=C(C=C2)OP(=S)(...           31.6(5)   \n",
       "1             CC(C)C1=CC2=CCC3C(C2CC1)(CCCC3(C)C(=O)O)C             173.5   \n",
       "2                CC1=CC(=O)CC(C1(C=CC(=CC(=O)O)C)O)(C)C               160   \n",
       "3           COC1=CC=C(C=C1)C2=CC(=O)C3=C(C=C(C=C3O2)O)O               263   \n",
       "4           CCCC(=O)NC1=CC(=C(C=C1)OCC(CNC(C)C)O)C(=O)C               121   \n",
       "...                                                 ...               ...   \n",
       "7977                             C[CH2-].C[CH2-].[Zn+2]         -33.34(2)   \n",
       "7978                    C(CNC(=S)[S-])NC(=S)[S-].[Zn+2]           157 dec   \n",
       "7979                   CC(=CC(=O)C)O.CC(=CC(=O)C)O.[Zn]          127.3(2)   \n",
       "7980               CN(C)C(=S)[S-].CN(C)C(=S)[S-].[Zn+2]               250   \n",
       "7981                     Cl[Zr](Cl)(C1C=CC=C1)C2C=CC=C2               248   \n",
       "\n",
       "      MP (processed)  \n",
       "0              31.60  \n",
       "1             173.50  \n",
       "2             160.00  \n",
       "3             263.00  \n",
       "4             121.00  \n",
       "...              ...  \n",
       "7977          -33.34  \n",
       "7978          157.00  \n",
       "7979          127.30  \n",
       "7980          250.00  \n",
       "7981          248.00  \n",
       "\n",
       "[7982 rows x 3 columns]"
      ]
     },
     "execution_count": 129,
     "metadata": {},
     "output_type": "execute_result"
    }
   ],
   "source": [
    "# Extract numeric values from 'Melting point (C)' and create a new column 'MP'\n",
    "new_df['MP (processed)'] = new_df['Melting point (C)'].str.extract(r'([-+]?\\d*\\.\\d+|\\d+)').astype(float)\n",
    "\n",
    "new_df"
   ]
  },
  {
   "cell_type": "code",
   "execution_count": 131,
   "metadata": {},
   "outputs": [
    {
     "data": {
      "text/plain": [
       "0       False\n",
       "1       False\n",
       "2       False\n",
       "3       False\n",
       "4       False\n",
       "        ...  \n",
       "7977    False\n",
       "7978     True\n",
       "7979    False\n",
       "7980    False\n",
       "7981    False\n",
       "Name: Melting point (C), Length: 7982, dtype: bool"
      ]
     },
     "execution_count": 131,
     "metadata": {},
     "output_type": "execute_result"
    }
   ],
   "source": [
    "filter_dec_keyword = new_df['Melting point (C)'].str.contains('dec', case=True, na=False)\n",
    "filter_dec_keyword"
   ]
  },
  {
   "cell_type": "code",
   "execution_count": null,
   "metadata": {},
   "outputs": [],
   "source": [
    "new_df = new_df[~filter_dec_keyword]\n",
    "new_df"
   ]
  },
  {
   "cell_type": "code",
   "execution_count": 156,
   "metadata": {},
   "outputs": [
    {
     "data": {
      "text/plain": [
       "0"
      ]
     },
     "execution_count": 156,
     "metadata": {},
     "output_type": "execute_result"
    }
   ],
   "source": [
    "nan_ind = new_df['MP (processed)'].isna()\n",
    "nan_ind.sum()"
   ]
  },
  {
   "cell_type": "code",
   "execution_count": 155,
   "metadata": {},
   "outputs": [
    {
     "data": {
      "text/html": [
       "<div>\n",
       "<style scoped>\n",
       "    .dataframe tbody tr th:only-of-type {\n",
       "        vertical-align: middle;\n",
       "    }\n",
       "\n",
       "    .dataframe tbody tr th {\n",
       "        vertical-align: top;\n",
       "    }\n",
       "\n",
       "    .dataframe thead th {\n",
       "        text-align: right;\n",
       "    }\n",
       "</style>\n",
       "<table border=\"1\" class=\"dataframe\">\n",
       "  <thead>\n",
       "    <tr style=\"text-align: right;\">\n",
       "      <th></th>\n",
       "      <th>SMILES</th>\n",
       "      <th>Melting point (C)</th>\n",
       "      <th>MP (processed)</th>\n",
       "    </tr>\n",
       "  </thead>\n",
       "  <tbody>\n",
       "    <tr>\n",
       "      <th>0</th>\n",
       "      <td>COP(=S)(OC)OC1=CC=C(C=C1)SC2=CC=C(C=C2)OP(=S)(...</td>\n",
       "      <td>31.6(5)</td>\n",
       "      <td>31.60</td>\n",
       "    </tr>\n",
       "    <tr>\n",
       "      <th>1</th>\n",
       "      <td>CC(C)C1=CC2=CCC3C(C2CC1)(CCCC3(C)C(=O)O)C</td>\n",
       "      <td>173.5</td>\n",
       "      <td>173.50</td>\n",
       "    </tr>\n",
       "    <tr>\n",
       "      <th>2</th>\n",
       "      <td>CC1=CC(=O)CC(C1(C=CC(=CC(=O)O)C)O)(C)C</td>\n",
       "      <td>160</td>\n",
       "      <td>160.00</td>\n",
       "    </tr>\n",
       "    <tr>\n",
       "      <th>3</th>\n",
       "      <td>COC1=CC=C(C=C1)C2=CC(=O)C3=C(C=C(C=C3O2)O)O</td>\n",
       "      <td>263</td>\n",
       "      <td>263.00</td>\n",
       "    </tr>\n",
       "    <tr>\n",
       "      <th>4</th>\n",
       "      <td>CCCC(=O)NC1=CC(=C(C=C1)OCC(CNC(C)C)O)C(=O)C</td>\n",
       "      <td>121</td>\n",
       "      <td>121.00</td>\n",
       "    </tr>\n",
       "    <tr>\n",
       "      <th>...</th>\n",
       "      <td>...</td>\n",
       "      <td>...</td>\n",
       "      <td>...</td>\n",
       "    </tr>\n",
       "    <tr>\n",
       "      <th>7976</th>\n",
       "      <td>CCCCN(CCCC)C(=S)[S-].CCCCN(CCCC)C(=S)[S-].[Zn+2]</td>\n",
       "      <td>138</td>\n",
       "      <td>138.00</td>\n",
       "    </tr>\n",
       "    <tr>\n",
       "      <th>7977</th>\n",
       "      <td>C[CH2-].C[CH2-].[Zn+2]</td>\n",
       "      <td>-33.34(2)</td>\n",
       "      <td>-33.34</td>\n",
       "    </tr>\n",
       "    <tr>\n",
       "      <th>7979</th>\n",
       "      <td>CC(=CC(=O)C)O.CC(=CC(=O)C)O.[Zn]</td>\n",
       "      <td>127.3(2)</td>\n",
       "      <td>127.30</td>\n",
       "    </tr>\n",
       "    <tr>\n",
       "      <th>7980</th>\n",
       "      <td>CN(C)C(=S)[S-].CN(C)C(=S)[S-].[Zn+2]</td>\n",
       "      <td>250</td>\n",
       "      <td>250.00</td>\n",
       "    </tr>\n",
       "    <tr>\n",
       "      <th>7981</th>\n",
       "      <td>Cl[Zr](Cl)(C1C=CC=C1)C2C=CC=C2</td>\n",
       "      <td>248</td>\n",
       "      <td>248.00</td>\n",
       "    </tr>\n",
       "  </tbody>\n",
       "</table>\n",
       "<p>7437 rows × 3 columns</p>\n",
       "</div>"
      ],
      "text/plain": [
       "                                                 SMILES Melting point (C)  \\\n",
       "0     COP(=S)(OC)OC1=CC=C(C=C1)SC2=CC=C(C=C2)OP(=S)(...           31.6(5)   \n",
       "1             CC(C)C1=CC2=CCC3C(C2CC1)(CCCC3(C)C(=O)O)C             173.5   \n",
       "2                CC1=CC(=O)CC(C1(C=CC(=CC(=O)O)C)O)(C)C               160   \n",
       "3           COC1=CC=C(C=C1)C2=CC(=O)C3=C(C=C(C=C3O2)O)O               263   \n",
       "4           CCCC(=O)NC1=CC(=C(C=C1)OCC(CNC(C)C)O)C(=O)C               121   \n",
       "...                                                 ...               ...   \n",
       "7976   CCCCN(CCCC)C(=S)[S-].CCCCN(CCCC)C(=S)[S-].[Zn+2]               138   \n",
       "7977                             C[CH2-].C[CH2-].[Zn+2]         -33.34(2)   \n",
       "7979                   CC(=CC(=O)C)O.CC(=CC(=O)C)O.[Zn]          127.3(2)   \n",
       "7980               CN(C)C(=S)[S-].CN(C)C(=S)[S-].[Zn+2]               250   \n",
       "7981                     Cl[Zr](Cl)(C1C=CC=C1)C2C=CC=C2               248   \n",
       "\n",
       "      MP (processed)  \n",
       "0              31.60  \n",
       "1             173.50  \n",
       "2             160.00  \n",
       "3             263.00  \n",
       "4             121.00  \n",
       "...              ...  \n",
       "7976          138.00  \n",
       "7977          -33.34  \n",
       "7979          127.30  \n",
       "7980          250.00  \n",
       "7981          248.00  \n",
       "\n",
       "[7437 rows x 3 columns]"
      ]
     },
     "execution_count": 155,
     "metadata": {},
     "output_type": "execute_result"
    }
   ],
   "source": [
    "new_df = new_df[~nan_ind]\n",
    "new_df"
   ]
  },
  {
   "cell_type": "code",
   "execution_count": 157,
   "metadata": {},
   "outputs": [
    {
     "data": {
      "text/plain": [
       "Series([], Name: MP (processed), dtype: float64)"
      ]
     },
     "execution_count": 157,
     "metadata": {},
     "output_type": "execute_result"
    }
   ],
   "source": [
    "new_df['MP (processed)'][new_df['MP (processed)'].isna()]"
   ]
  },
  {
   "cell_type": "code",
   "execution_count": 160,
   "metadata": {},
   "outputs": [
    {
     "data": {
      "text/plain": [
       "523     0.0\n",
       "1803    0.0\n",
       "3615    0.0\n",
       "3662    0.0\n",
       "3760    0.0\n",
       "4966    0.0\n",
       "6057    0.0\n",
       "6105    0.0\n",
       "7128    0.0\n",
       "7867    0.0\n",
       "Name: MP (processed), dtype: float64"
      ]
     },
     "execution_count": 160,
     "metadata": {},
     "output_type": "execute_result"
    }
   ],
   "source": [
    "new_df['MP (processed)'][new_df['MP (processed)'] == 0]"
   ]
  },
  {
   "cell_type": "code",
   "execution_count": 162,
   "metadata": {},
   "outputs": [
    {
     "data": {
      "text/plain": [
       "(0.0, '<0')"
      ]
     },
     "execution_count": 162,
     "metadata": {},
     "output_type": "execute_result"
    }
   ],
   "source": [
    "new_df['MP (processed)'].at[523], new_df['Melting point (C)'].at[523]"
   ]
  },
  {
   "cell_type": "code",
   "execution_count": 172,
   "metadata": {},
   "outputs": [
    {
     "data": {
      "image/png": "[encoded data removed]",
      "text/plain": [
       "<rdkit.Chem.rdchem.Mol at 0x1712c2430>"
      ]
     },
     "metadata": {},
     "output_type": "display_data"
    },
    {
     "data": {
      "text/plain": [
       "('COP(=S)(OC)OC1=CC=C(C=C1)SC2=CC=C(C=C2)OP(=S)(OC)OC', 31.6)"
      ]
     },
     "execution_count": 172,
     "metadata": {},
     "output_type": "execute_result"
    }
   ],
   "source": [
    "idx = 0\n",
    "display(Chem.MolFromSmiles(new_df['SMILES'].at[idx]))\n",
    "new_df['SMILES'].at[idx], new_df['MP (processed)'].at[idx]"
   ]
  }
 ],
 "metadata": {
  "kernelspec": {
   "display_name": "base",
   "language": "python",
   "name": "python3"
  },
  "language_info": {
   "codemirror_mode": {
    "name": "ipython",
    "version": 3
   },
   "file_extension": ".py",
   "mimetype": "text/x-python",
   "name": "python",
   "nbconvert_exporter": "python",
   "pygments_lexer": "ipython3",
   "version": "3.9.18"
  }
 },
 "nbformat": 4,
 "nbformat_minor": 2
}
